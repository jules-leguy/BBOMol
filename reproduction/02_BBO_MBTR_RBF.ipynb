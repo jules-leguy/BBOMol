{
 "cells": [
  {
   "cell_type": "code",
   "execution_count": null,
   "metadata": {},
   "outputs": [],
   "source": [
    "import os\n",
    "\n",
    "# Paths\n",
    "results_path = \"output/02_BBO_MBTR_RBF\"\n",
    "dft_path = os.path.abspath(\"output/dft_files\")\n",
    "\n",
    "# BBO parameters\n",
    "period_save = 1\n",
    "period_compute_test_predictions = 1\n",
    "max_obj_calls = 1000\n",
    "\n",
    "# EA parameters\n",
    "evomol_pop_max_size = 300\n",
    "evomol_max_steps = 10\n",
    "evomol_k_to_replace = 10\n",
    "evomol_init_pop_size = 10\n",
    "evomol_n_runs = 10\n",
    "evomol_n_best_retrieved = 1\n",
    "evomol_init_pop_strategy = \"random_weighted\"\n",
    "\n",
    "# Chemical space\n",
    "max_heavy_atoms = 9\n",
    "heavy_atoms = \"C,N,O,F\"\n",
    "\n",
    "# GPR parameters\n",
    "gpr_alpha = 1e-1\n",
    "gpr_optimizer = 'fmin_l_bfgs_b'\n",
    "\n",
    "# Initial dataset initialization\n",
    "init_dataset_smiles = [\"C\"]\n",
    "\n",
    "# Merit parameters\n",
    "EI_xi = 0.01\n",
    "\n",
    "# QM objective and MM optimization\n",
    "prop = \"homo\"\n",
    "MM_program = \"rdkit\"\n",
    "\n",
    "# Parallelization (None)\n",
    "n_jobs_dft = 1\n",
    "n_jobs_per_model = 1\n",
    "dft_n_threads = 1"
   ]
  },
  {
   "cell_type": "code",
   "execution_count": null,
   "metadata": {},
   "outputs": [],
   "source": [
    "from sklearn.gaussian_process.kernels import RBF\n",
    "\n",
    "# Kernel\n",
    "kernel = 1.0*RBF(1.0)"
   ]
  },
  {
   "cell_type": "code",
   "execution_count": null,
   "metadata": {},
   "outputs": [],
   "source": [
    "from bbomol.descriptor import MBTRDesc\n",
    "\n",
    "# Descriptor\n",
    "descriptor = MBTRDesc(cache_location=None, n_jobs=n_jobs_per_model, cosine_angles_n=25, \n",
    "                      atomic_numbers_n=10, inverse_distances_n=25, species=[\"C\", \"H\", \"O\", \"N\", \"F\"], \n",
    "                      MM_program=MM_program)\n"
   ]
  },
  {
   "cell_type": "code",
   "execution_count": null,
   "metadata": {},
   "outputs": [],
   "source": [
    "from sklearn.gaussian_process import GaussianProcessRegressor\n",
    "from bbomol.model import GPRSurrogateModelWrapper\n",
    "\n",
    "\n",
    "\n",
    "# GPR model\n",
    "surrogate = GPRSurrogateModelWrapper(\n",
    "    GaussianProcessRegressor(kernel, optimizer=gpr_optimizer, alpha=gpr_alpha)\n",
    ")"
   ]
  },
  {
   "cell_type": "code",
   "execution_count": null,
   "metadata": {},
   "outputs": [],
   "source": [
    "from bbomol.merit import ExpectedImprovementMerit\n",
    "\n",
    "# Merit function\n",
    "merit = ExpectedImprovementMerit(descriptor=descriptor, surrogate=surrogate, xi=EI_xi, pipeline=None)\n",
    "            "
   ]
  },
  {
   "cell_type": "code",
   "execution_count": null,
   "metadata": {},
   "outputs": [],
   "source": [
    "from evomol.evaluation_dft import OPTEvaluationStrategy\n",
    "from bbomol.objective import EvoMolEvaluationStrategyWrapper\n",
    "\n",
    "# Objective function\n",
    "objective = EvoMolEvaluationStrategyWrapper(\n",
    "        OPTEvaluationStrategy(\n",
    "            prop=prop,\n",
    "            n_jobs=dft_n_threads,\n",
    "            working_dir_path=dft_path,\n",
    "            MM_program=MM_program,\n",
    "        ),\n",
    "        n_jobs=n_jobs_dft\n",
    ")"
   ]
  },
  {
   "cell_type": "code",
   "execution_count": null,
   "metadata": {},
   "outputs": [],
   "source": [
    "from os.path import join\n",
    "from bbomol.bboalg import BBOAlg\n",
    "from bbomol.stop_criterion import KObjFunCallsFunctionStopCriterion\n",
    "\n",
    "def run(run_id):\n",
    "    \n",
    "    model_path = join(results_path, str(run_id))\n",
    "    \n",
    "    alg = BBOAlg(\n",
    "        init_dataset_smiles=init_dataset_smiles,\n",
    "        descriptor=descriptor,\n",
    "        objective=objective,\n",
    "        merit_function=merit,\n",
    "        surrogate=surrogate,\n",
    "        stop_criterion=KObjFunCallsFunctionStopCriterion(max_obj_calls),\n",
    "        evomol_parameters={\n",
    "            \"optimization_parameters\": {\n",
    "                \"pop_max_size\": evomol_pop_max_size,\n",
    "                \"max_steps\": evomol_max_steps,\n",
    "                \"k_to_replace\": evomol_k_to_replace\n",
    "            },\n",
    "            \"action_space_parameters\":{\n",
    "                \"max_heavy_atoms\": max_heavy_atoms,\n",
    "                \"atoms\": heavy_atoms\n",
    "            }\n",
    "        },\n",
    "        evomol_init_pop_size=evomol_init_pop_size,\n",
    "        n_evomol_runs=evomol_n_runs,\n",
    "        n_best_evomol_retrieved=evomol_n_best_retrieved,\n",
    "        evomol_init_pop_strategy=evomol_init_pop_strategy,\n",
    "        results_path=model_path,\n",
    "        n_jobs=n_jobs_per_model,\n",
    "        period_save=period_save,\n",
    "        period_compute_test_predictions=period_compute_test_predictions\n",
    "        \n",
    "    )\n",
    "    \n",
    "    alg.run()\n",
    "    "
   ]
  },
  {
   "cell_type": "code",
   "execution_count": null,
   "metadata": {},
   "outputs": [],
   "source": [
    "# Running a single execution\n",
    "\n",
    "run(0)"
   ]
  },
  {
   "cell_type": "code",
   "execution_count": null,
   "metadata": {},
   "outputs": [],
   "source": []
  },
  {
   "cell_type": "code",
   "execution_count": null,
   "metadata": {},
   "outputs": [],
   "source": []
  }
 ],
 "metadata": {
  "kernelspec": {
   "display_name": "Python 3",
   "language": "python",
   "name": "python3"
  },
  "language_info": {
   "codemirror_mode": {
    "name": "ipython",
    "version": 3
   },
   "file_extension": ".py",
   "mimetype": "text/x-python",
   "name": "python",
   "nbconvert_exporter": "python",
   "pygments_lexer": "ipython3",
   "version": "3.6.10"
  }
 },
 "nbformat": 4,
 "nbformat_minor": 4
}
