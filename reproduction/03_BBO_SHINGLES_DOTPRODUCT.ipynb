{
 "cells": [
  {
   "cell_type": "code",
   "execution_count": null,
   "metadata": {},
   "outputs": [],
   "source": [
    "import os\n",
    "from sklearn.gaussian_process import GaussianProcessRegressor\n",
    "from sklearn.gaussian_process.kernels import DotProduct\n",
    "\n",
    "from bbomol import run_optimization\n",
    "\n",
    "def run(i):\n",
    "\n",
    "    run_optimization({\n",
    "        \"obj_function\": \"homo\",\n",
    "        \"io_parameters\":{\n",
    "            \"results_path\": \"output/03_BBO_SHINGLES_DP\",\n",
    "            \"dft_working_dir\": os.path.abspath(\"output/dft_files\"),\n",
    "            \"smiles_list_init\": [\"C\"],\n",
    "            \"MM_program\": \"rdkit\"\n",
    "        },\n",
    "        \"merit_optim_parameters\": {\n",
    "            \"evomol_parameters\": {\n",
    "                \"optimization_parameters\": {\n",
    "                    \"pop_max_size\": 300,\n",
    "                    \"max_steps\": 10,\n",
    "                    \"k_to_replace\": 10,\n",
    "                },\n",
    "                \"action_space_parameters\": {\n",
    "                    \"max_heavy_atoms\": 9,\n",
    "                    \"atoms\": \"C,N,O,F\"\n",
    "                }\n",
    "            },\n",
    "            \"merit_EI_xi\": 0.01,\n",
    "            \"n_merit_optim_restarts\": 10,\n",
    "            \"n_best_retrieved\": 1\n",
    "        },\n",
    "        \"bbo_optim_parameters\": {\n",
    "            \"max_obj_calls\": 1000\n",
    "        },\n",
    "        \"surrogate_parameters\": {\n",
    "            \"GPR_instance\": GaussianProcessRegressor(1.0*DotProduct(1.0), normalize_y=False, alpha=1e-1),\n",
    "            \"descriptor\": {\n",
    "                \"type\": \"shingles\"\n",
    "            }\n",
    "        }\n",
    "    })\n"
   ]
  },
  {
   "cell_type": "code",
   "execution_count": null,
   "metadata": {},
   "outputs": [],
   "source": [
    "for i in range(1, 11):\n",
    "    run(i)"
   ]
  },
  {
   "cell_type": "code",
   "execution_count": null,
   "metadata": {},
   "outputs": [],
   "source": []
  }
 ],
 "metadata": {
  "kernelspec": {
   "display_name": "Python 3",
   "language": "python",
   "name": "python3"
  },
  "language_info": {
   "codemirror_mode": {
    "name": "ipython",
    "version": 3
   },
   "file_extension": ".py",
   "mimetype": "text/x-python",
   "name": "python",
   "nbconvert_exporter": "python",
   "pygments_lexer": "ipython3",
   "version": "3.6.10"
  }
 },
 "nbformat": 4,
 "nbformat_minor": 4
}
