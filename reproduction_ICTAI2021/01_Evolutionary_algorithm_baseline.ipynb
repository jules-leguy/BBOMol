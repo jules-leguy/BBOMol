{
 "cells": [
  {
   "cell_type": "code",
   "execution_count": null,
   "metadata": {
    "pycharm": {
     "is_executing": false
    }
   },
   "outputs": [],
   "source": [
    "import os\n",
    "\n",
    "# Paths\n",
    "results_path = \"output/01_EA_baseline\"\n",
    "dft_path = os.path.abspath(\"output/dft_files\")\n",
    "\n",
    "# EA parameters\n",
    "pop_max_size = 300\n",
    "n_to_replace = 10\n",
    "record_all_generated_individuals = True\n",
    "problem_type = \"max\"\n",
    "\n",
    "# EA I/O parameters\n",
    "save_n_steps = 1\n",
    "\n",
    "# EA stop criterion\n",
    "max_steps = float(\"inf\")\n",
    "max_obj_calls = 1000\n",
    "\n",
    "# Initial population initialization\n",
    "init_smi = [\"C\"]\n",
    "\n",
    "# QM objective and MM starting point\n",
    "prop = \"homo\"\n",
    "MM_program = \"rdkit\"\n",
    "\n",
    "# Chemical space\n",
    "atoms = \"C,N,O,F\"\n",
    "max_heavy_atoms = 9\n",
    "\n",
    "# Parallelization (None)\n",
    "dft_n_threads = 1\n"
   ]
  },
  {
   "cell_type": "code",
   "execution_count": null,
   "metadata": {},
   "outputs": [],
   "source": [
    "from evomol import run_model\n",
    "from os.path import join\n",
    "from evomol.evaluation_dft import OPTEvaluationStrategy\n",
    "\n",
    "def run(i):\n",
    "        \n",
    "    run_model({\n",
    "        \"obj_function\": OPTEvaluationStrategy(\n",
    "                            prop=prop,\n",
    "                            n_jobs=dft_n_threads,\n",
    "                            working_dir_path=dft_path,\n",
    "                            MM_program=MM_program,\n",
    "                          ),\n",
    "        \"optimization_parameters\": {\n",
    "            \"max_steps\": max_steps,\n",
    "            \"max_obj_calls\": max_obj_calls,\n",
    "            \"pop_max_size\": pop_max_size,\n",
    "            \"k_to_replace\": n_to_replace,\n",
    "            \"problem_type\": problem_type,\n",
    "        },\n",
    "        \"io_parameters\": {\n",
    "            \"model_path\": join(results_path, str(i)),\n",
    "            \"smiles_list_init\": init_smi,\n",
    "            \"save_n_steps\": save_n_steps,\n",
    "            \"record_all_generated_individuals\": record_all_generated_individuals\n",
    "        },\n",
    "        \"action_space_parameters\": {\n",
    "            \"atoms\": atoms,\n",
    "            \"max_heavy_atoms\": max_heavy_atoms,\n",
    "        }\n",
    "    })\n",
    "\n"
   ]
  },
  {
   "cell_type": "code",
   "execution_count": null,
   "metadata": {},
   "outputs": [],
   "source": [
    "for i in range(1, 11):\n",
    "    run(i)"
   ]
  },
  {
   "cell_type": "code",
   "execution_count": null,
   "metadata": {},
   "outputs": [],
   "source": []
  },
  {
   "cell_type": "code",
   "execution_count": null,
   "metadata": {},
   "outputs": [],
   "source": []
  }
 ],
 "metadata": {
  "kernelspec": {
   "display_name": "PyCharm (bbomol)",
   "language": "python",
   "name": "pycharm-86cc2d"
  },
  "language_info": {
   "codemirror_mode": {
    "name": "ipython",
    "version": 3
   },
   "file_extension": ".py",
   "mimetype": "text/x-python",
   "name": "python",
   "nbconvert_exporter": "python",
   "pygments_lexer": "ipython3",
   "version": "3.6.10"
  }
 },
 "nbformat": 4,
 "nbformat_minor": 4
}
