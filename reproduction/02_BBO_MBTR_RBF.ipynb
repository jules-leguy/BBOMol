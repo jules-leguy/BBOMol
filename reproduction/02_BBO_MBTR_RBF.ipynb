{
 "cells": [
  {
   "cell_type": "code",
   "execution_count": 1,
   "metadata": {},
   "outputs": [],
   "source": [
    "import os\n",
    "\n",
    "# Paths\n",
    "results_path = \"output/02_BBO_MBTR_RBF\"\n",
    "dft_path = os.path.abspath(\"output/dft_files\")\n",
    "\n",
    "# BBO parameters\n",
    "period_save = 1\n",
    "period_compute_test_predictions = 1\n",
    "max_obj_calls = 1000\n",
    "\n",
    "# EA parameters\n",
    "evomol_pop_max_size = 300\n",
    "evomol_max_steps = 10\n",
    "evomol_k_to_replace = 10\n",
    "evomol_init_pop_size = 10\n",
    "evomol_n_runs = 10\n",
    "evomol_n_best_retrieved = 1\n",
    "evomol_init_pop_strategy = \"random_weighted\"\n",
    "\n",
    "# Chemical space\n",
    "max_heavy_atoms = 9\n",
    "heavy_atoms = \"C,N,O,F\"\n",
    "\n",
    "# GPR parameters\n",
    "gpr_alpha = 1e-1\n",
    "gpr_optimizer = 'fmin_l_bfgs_b'\n",
    "\n",
    "# Initial dataset initialization\n",
    "init_dataset_smiles = [\"C\"]\n",
    "\n",
    "# Merit parameters\n",
    "EI_xi = 0.01\n",
    "\n",
    "# QM objective and MM optimization\n",
    "prop = \"homo\"\n",
    "MM_program = \"rdkit\"\n",
    "\n",
    "# Parallelization (None)\n",
    "n_jobs_dft = 1\n",
    "n_jobs_per_model = 1\n",
    "dft_n_threads = 1"
   ]
  },
  {
   "cell_type": "code",
   "execution_count": 2,
   "metadata": {},
   "outputs": [],
   "source": [
    "from sklearn.gaussian_process.kernels import RBF\n",
    "\n",
    "# Kernel\n",
    "kernel = 1.0*RBF(1.0)"
   ]
  },
  {
   "cell_type": "code",
   "execution_count": 3,
   "metadata": {},
   "outputs": [
    {
     "ename": "ModuleNotFoundError",
     "evalue": "No module named 'bbomol'",
     "output_type": "error",
     "traceback": [
      "\u001b[0;31m---------------------------------------------------------------------------\u001b[0m",
      "\u001b[0;31mModuleNotFoundError\u001b[0m                       Traceback (most recent call last)",
      "\u001b[0;32m<ipython-input-3-6a149b37286d>\u001b[0m in \u001b[0;36m<module>\u001b[0;34m\u001b[0m\n\u001b[0;32m----> 1\u001b[0;31m \u001b[0;32mfrom\u001b[0m \u001b[0mbbomol\u001b[0m\u001b[0;34m.\u001b[0m\u001b[0mbbomol\u001b[0m\u001b[0;34m.\u001b[0m\u001b[0mdescriptor\u001b[0m \u001b[0;32mimport\u001b[0m \u001b[0mMBTRDesc\u001b[0m\u001b[0;34m\u001b[0m\u001b[0;34m\u001b[0m\u001b[0m\n\u001b[0m\u001b[1;32m      2\u001b[0m \u001b[0;34m\u001b[0m\u001b[0m\n\u001b[1;32m      3\u001b[0m \u001b[0;31m# Descriptor\u001b[0m\u001b[0;34m\u001b[0m\u001b[0;34m\u001b[0m\u001b[0;34m\u001b[0m\u001b[0m\n\u001b[1;32m      4\u001b[0m descriptor = MBTRDesc(cache_location=None, n_jobs=n_jobs_per_model, cosine_angles_n=25, \n\u001b[1;32m      5\u001b[0m                       \u001b[0matomic_numbers_n\u001b[0m\u001b[0;34m=\u001b[0m\u001b[0;36m10\u001b[0m\u001b[0;34m,\u001b[0m \u001b[0minverse_distances_n\u001b[0m\u001b[0;34m=\u001b[0m\u001b[0;36m25\u001b[0m\u001b[0;34m,\u001b[0m \u001b[0mspecies\u001b[0m\u001b[0;34m=\u001b[0m\u001b[0;34m[\u001b[0m\u001b[0;34m\"C\"\u001b[0m\u001b[0;34m,\u001b[0m \u001b[0;34m\"H\"\u001b[0m\u001b[0;34m,\u001b[0m \u001b[0;34m\"O\"\u001b[0m\u001b[0;34m,\u001b[0m \u001b[0;34m\"N\"\u001b[0m\u001b[0;34m,\u001b[0m \u001b[0;34m\"F\"\u001b[0m\u001b[0;34m]\u001b[0m\u001b[0;34m,\u001b[0m\u001b[0;34m\u001b[0m\u001b[0;34m\u001b[0m\u001b[0m\n",
      "\u001b[0;31mModuleNotFoundError\u001b[0m: No module named 'bbomol'"
     ]
    }
   ],
   "source": [
    "from bbomol.bbomol.descriptor import MBTRDesc\n",
    "\n",
    "# Descriptor\n",
    "descriptor = MBTRDesc(cache_location=None, n_jobs=n_jobs_per_model, cosine_angles_n=25, \n",
    "                      atomic_numbers_n=10, inverse_distances_n=25, species=[\"C\", \"H\", \"O\", \"N\", \"F\"], \n",
    "                      MM_program=MM_program)\n"
   ]
  },
  {
   "cell_type": "code",
   "execution_count": null,
   "metadata": {},
   "outputs": [],
   "source": [
    "from sklearn.gaussian_process import GaussianProcessRegressor\n",
    "\n",
    "# GPR model\n",
    "surrogate = GaussianProcessRegressor(kernel, optimizer=gpr_optimizer, alpha=gpr_alpha)"
   ]
  },
  {
   "cell_type": "code",
   "execution_count": null,
   "metadata": {},
   "outputs": [],
   "source": [
    "from bbomol.merit import ExpectedImprovementMerit\n",
    "\n",
    "# Merit function\n",
    "merit = ExpectedImprovementMerit(descriptor=descriptor, surrogate=surrogate, xi=EI_xi)\n",
    "            "
   ]
  },
  {
   "cell_type": "code",
   "execution_count": null,
   "metadata": {},
   "outputs": [],
   "source": [
    "from evomol.evomol.evaluation_dft import OPTEvaluationStrategy\n",
    "from bbomol.bbomol.objective import EvoMolEvaluationStrategyWrapper\n",
    "\n",
    "# Objective function\n",
    "objective = EvoMolEvaluationStrategyWrapper(\n",
    "        OPTEvaluationStrategy(\n",
    "            prop=prop,\n",
    "            n_jobs=dft_n_threads,\n",
    "            working_dir_path=dft_path,\n",
    "            MM_program=MM_program,\n",
    "        ),\n",
    "        n_jobs=n_jobs_dft\n",
    ")"
   ]
  },
  {
   "cell_type": "code",
   "execution_count": null,
   "metadata": {},
   "outputs": [],
   "source": [
    "from os.path import join\n",
    "from bbomol.bbomol.bboalg import BBOAlg\n",
    "from bbomol.bbomol.stop_criterion import KObjFunCallsFunctionStopCriterion\n",
    "\n",
    "def run(run_id):\n",
    "    \n",
    "    model_path = join(results_path, str(run_id))\n",
    "    \n",
    "    alg = BBOAlg(\n",
    "        init_dataset_smiles=init_dataset_smiles,\n",
    "        descriptor=descriptor,\n",
    "        objective=objective,\n",
    "        merit_function=merit,\n",
    "        surrogate=surrogate,\n",
    "        stop_criterion=KObjFunCallsFunctionStopCriterion(max_obj_calls),\n",
    "        evomol_parameters={\n",
    "            \"optimization_parameters\": {\n",
    "                \"pop_max_size\": evomol_pop_max_size,\n",
    "                \"max_steps\": evomol_max_steps,\n",
    "                \"k_to_replace\": evomol_k_to_replace\n",
    "            },\n",
    "            \"action_space_parameters\":{\n",
    "                \"max_heavy_atoms\": max_heavy_atoms,\n",
    "                \"atoms\": heavy_atoms\n",
    "            }\n",
    "        },\n",
    "        evomol_init_pop_size=evomol_init_pop_size,\n",
    "        n_evomol_runs=evomol_n_runs,\n",
    "        n_best_evomol_retrieved=evomol_n_best_retrieved,\n",
    "        evomol_init_pop_strategy=evomol_init_pop_strategy,\n",
    "        results_path=model_path,\n",
    "        n_jobs=n_jobs_per_model,\n",
    "        save_surrogate_model=save_surrogate_model,\n",
    "        period_save=period_save,\n",
    "        period_compute_test_predictions=period_compute_test_predictions\n",
    "        \n",
    "    )\n",
    "    \n",
    "    alg.run()\n",
    "    "
   ]
  }
 ],
 "metadata": {
  "kernelspec": {
   "display_name": "Python 3",
   "language": "python",
   "name": "python3"
  },
  "language_info": {
   "codemirror_mode": {
    "name": "ipython",
    "version": 3
   },
   "file_extension": ".py",
   "mimetype": "text/x-python",
   "name": "python",
   "nbconvert_exporter": "python",
   "pygments_lexer": "ipython3",
   "version": "3.6.10"
  }
 },
 "nbformat": 4,
 "nbformat_minor": 4
}
